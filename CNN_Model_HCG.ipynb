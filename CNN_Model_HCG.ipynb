{
  "nbformat": 4,
  "nbformat_minor": 0,
  "metadata": {
    "colab": {
      "name": "CNN_Model_HCG",
      "provenance": [],
      "authorship_tag": "ABX9TyPVoWal6/D69JP5hPvEmuAl",
      "include_colab_link": true
    },
    "kernelspec": {
      "name": "python3",
      "display_name": "Python 3"
    }
  },
  "cells": [
    {
      "cell_type": "markdown",
      "metadata": {
        "id": "view-in-github",
        "colab_type": "text"
      },
      "source": [
        "<a href=\"https://colab.research.google.com/github/hawkinsgay/Deep_Learning_Playgroud/blob/main/CNN_Model_HCG.ipynb\" target=\"_parent\"><img src=\"https://colab.research.google.com/assets/colab-badge.svg\" alt=\"Open In Colab\"/></a>"
      ]
    },
    {
      "cell_type": "markdown",
      "metadata": {
        "id": "Af-1NsGAKlqa"
      },
      "source": [
        "## MINST Model with Tensorflow\n"
      ]
    },
    {
      "cell_type": "code",
      "metadata": {
        "id": "CmUNcaeN5vz-"
      },
      "source": [
        "# Importing Libraries and Datasets\n",
        "from tensorflow import keras\n",
        "import tensorflow as tf\n",
        "from tensorflow.keras import layers, models\n",
        "from sklearn.datasets import fetch_openml\n",
        "from sklearn.model_selection import train_test_split\n",
        "import numpy as np\n",
        "import matplotlib.pyplot as plt\n",
        "from PIL import Image "
      ],
      "execution_count": null,
      "outputs": []
    },
    {
      "cell_type": "code",
      "metadata": {
        "id": "s0STNUyfcxkR"
      },
      "source": [
        "tf.config.run_functions_eagerly(True)"
      ],
      "execution_count": null,
      "outputs": []
    },
    {
      "cell_type": "code",
      "metadata": {
        "colab": {
          "base_uri": "https://localhost:8080/"
        },
        "id": "pgdYcXSvK665",
        "outputId": "df87b18a-427c-4e52-ff4b-092bd3304d0b"
      },
      "source": [
        "# Checking versions\n",
        "print(tf.__version__)\n",
        "print(keras.__version__)"
      ],
      "execution_count": null,
      "outputs": [
        {
          "output_type": "stream",
          "text": [
            "2.4.1\n",
            "2.4.0\n"
          ],
          "name": "stdout"
        }
      ]
    },
    {
      "cell_type": "code",
      "metadata": {
        "id": "VQVcfZ9JK-jw"
      },
      "source": [
        "# Loading the MINST dataset from openml\n",
        "mnist = fetch_openml('mnist_784', cache=False)"
      ],
      "execution_count": null,
      "outputs": []
    },
    {
      "cell_type": "code",
      "metadata": {
        "colab": {
          "base_uri": "https://localhost:8080/"
        },
        "id": "Lk-0j4_WLS9v",
        "outputId": "3aca336e-ba00-4b08-d9a0-de70d20cf839"
      },
      "source": [
        "mnist.data.shape"
      ],
      "execution_count": null,
      "outputs": [
        {
          "output_type": "execute_result",
          "data": {
            "text/plain": [
              "(70000, 784)"
            ]
          },
          "metadata": {
            "tags": []
          },
          "execution_count": 5
        }
      ]
    },
    {
      "cell_type": "code",
      "metadata": {
        "id": "5mSV_NDbLdHH"
      },
      "source": [
        "# Setting up data (X) and targets (y) \n",
        "X = mnist.data.astype('float32')\n",
        "y = mnist.target.astype('int64')"
      ],
      "execution_count": null,
      "outputs": []
    },
    {
      "cell_type": "code",
      "metadata": {
        "colab": {
          "base_uri": "https://localhost:8080/"
        },
        "id": "zIDQEmQfLq9-",
        "outputId": "7e369e55-ec3d-41bd-d3a6-bf4ff5393025"
      },
      "source": [
        "# Looking at the flattened image format: \n",
        "print(X[9])\n",
        "arr_pic = X[9]"
      ],
      "execution_count": null,
      "outputs": [
        {
          "output_type": "stream",
          "text": [
            "[  0.   0.   0.   0.   0.   0.   0.   0.   0.   0.   0.   0.   0.   0.\n",
            "   0.   0.   0.   0.   0.   0.   0.   0.   0.   0.   0.   0.   0.   0.\n",
            "   0.   0.   0.   0.   0.   0.   0.   0.   0.   0.   0.   0.   0.   0.\n",
            "   0.   0.   0.   0.   0.   0.   0.   0.   0.   0.   0.   0.   0.   0.\n",
            "   0.   0.   0.   0.   0.   0.   0.   0.   0.   0.   0.   0.   0.   0.\n",
            "   0.   0.   0.   0.   0.   0.   0.   0.   0.   0.   0.   0.   0.   0.\n",
            "   0.   0.   0.   0.   0.   0.   0.   0.   0.   0.   0.   0.   0.   0.\n",
            "   0.   0.   0.   0.   0.   0.   0.   0.   0.   0.   0.   0.   0.   0.\n",
            "   0.   0.   0.   0.   0.   0.   0.   0.   0.   0.   0.   0.   0.   0.\n",
            "   0.   0.   0.   0.   0.   0.   0.   0. 189. 190.   0.   0.   0.   0.\n",
            "   0.   0.   0.   0.   0.   0.   0.   0.   0.   0.   0.   0.   0.   0.\n",
            "   0.   0.   0.   0.   0.   0.   0. 143. 247. 153.   0.   0.   0.   0.\n",
            "   0.   0.   0.   0.   0.   0.   0.   0.   0.   0.   0.   0.   0.   0.\n",
            "   0.   0.   0.   0.   0.   0. 136. 247. 242.  86.   0.   0.   0.   0.\n",
            "   0.   0.   0.   0.   0.   0.   0.   0.   0.   0.   0.   0.   0.   0.\n",
            "   0.   0.   0.   0.   0.   0. 192. 252. 187.   0.   0.   0.   0.   0.\n",
            "   0.   0.   0.   0.   0.   0.   0.   0.   0.   0.   0.   0.  62. 185.\n",
            "  18.   0.   0.   0.   0.  89. 236. 217.  47.   0.   0.   0.   0.   0.\n",
            "   0.   0.   0.   0.   0.   0.   0.   0.   0.   0.   0.   0. 216. 253.\n",
            "  60.   0.   0.   0.   0. 212. 255.  81.   0.   0.   0.   0.   0.   0.\n",
            "   0.   0.   0.   0.   0.   0.   0.   0.   0.   0.   0.   0. 206. 252.\n",
            "  68.   0.   0.   0.  48. 242. 253.  89.   0.   0.   0.   0.   0.   0.\n",
            "   0.   0.   0.   0.   0.   0.   0.   0.   0.   0.   0. 131. 251. 212.\n",
            "  21.   0.   0.  11. 167. 252. 197.   5.   0.   0.   0.   0.   0.   0.\n",
            "   0.   0.   0.   0.   0.   0.   0.   0.   0.   0.  29. 232. 247.  63.\n",
            "   0.   0.   0. 153. 252. 226.   0.   0.   0.   0.   0.   0.   0.   0.\n",
            "   0.   0.   0.   0.   0.   0.   0.   0.   0.  45. 219. 252. 143.   0.\n",
            "   0.   0. 116. 249. 252. 103.   0.   0.   0.   0.   0.   0.   0.   0.\n",
            "   0.   0.   0.   0.   0.   0.   0.   4.  96. 253. 255. 253. 200. 122.\n",
            "   7.  25. 201. 250. 158.   0.   0.   0.   0.   0.   0.   0.   0.   0.\n",
            "   0.   0.   0.   0.   0.   0.   0.  92. 252. 252. 253. 217. 252. 252.\n",
            " 200. 227. 252. 231.   0.   0.   0.   0.   0.   0.   0.   0.   0.   0.\n",
            "   0.   0.   0.   0.   0.   0.  87. 251. 247. 231.  65.  48. 189. 252.\n",
            " 252. 253. 252. 251. 227.  35.   0.   0.   0.   0.   0.   0.   0.   0.\n",
            "   0.   0.   0.   0.   0.   0. 190. 221.  98.   0.   0.   0.  42. 196.\n",
            " 252. 253. 252. 252. 162.   0.   0.   0.   0.   0.   0.   0.   0.   0.\n",
            "   0.   0.   0.   0.   0.   0. 111.  29.   0.   0.   0.   0.  62. 239.\n",
            " 252.  86.  42.  42.  14.   0.   0.   0.   0.   0.   0.   0.   0.   0.\n",
            "   0.   0.   0.   0.   0.   0.   0.   0.   0.   0.   0.  15. 148. 253.\n",
            " 218.   0.   0.   0.   0.   0.   0.   0.   0.   0.   0.   0.   0.   0.\n",
            "   0.   0.   0.   0.   0.   0.   0.   0.   0.   0.   0. 121. 252. 231.\n",
            "  28.   0.   0.   0.   0.   0.   0.   0.   0.   0.   0.   0.   0.   0.\n",
            "   0.   0.   0.   0.   0.   0.   0.   0.   0.   0.  31. 221. 251. 129.\n",
            "   0.   0.   0.   0.   0.   0.   0.   0.   0.   0.   0.   0.   0.   0.\n",
            "   0.   0.   0.   0.   0.   0.   0.   0.   0.   0. 218. 252. 160.   0.\n",
            "   0.   0.   0.   0.   0.   0.   0.   0.   0.   0.   0.   0.   0.   0.\n",
            "   0.   0.   0.   0.   0.   0.   0.   0.   0.   0. 122. 252.  82.   0.\n",
            "   0.   0.   0.   0.   0.   0.   0.   0.   0.   0.   0.   0.   0.   0.\n",
            "   0.   0.   0.   0.   0.   0.   0.   0.   0.   0.   0.   0.   0.   0.\n",
            "   0.   0.   0.   0.   0.   0.   0.   0.   0.   0.   0.   0.   0.   0.\n",
            "   0.   0.   0.   0.   0.   0.   0.   0.   0.   0.   0.   0.   0.   0.\n",
            "   0.   0.   0.   0.   0.   0.   0.   0.   0.   0.   0.   0.   0.   0.\n",
            "   0.   0.   0.   0.   0.   0.   0.   0.   0.   0.   0.   0.   0.   0.\n",
            "   0.   0.   0.   0.   0.   0.   0.   0.   0.   0.   0.   0.   0.   0.\n",
            "   0.   0.   0.   0.   0.   0.   0.   0.   0.   0.   0.   0.   0.   0.\n",
            "   0.   0.   0.   0.   0.   0.   0.   0.   0.   0.   0.   0.   0.   0.]\n"
          ],
          "name": "stdout"
        }
      ]
    },
    {
      "cell_type": "code",
      "metadata": {
        "colab": {
          "base_uri": "https://localhost:8080/",
          "height": 282
        },
        "id": "1VDWyH0CLtnN",
        "outputId": "681c4de8-e971-4cff-a77b-6c227ba5237d"
      },
      "source": [
        "# reshaping the image with .reshape and printing the pixelated digit \n",
        "plt.imshow(arr_pic.reshape(28,28), cmap='gray')"
      ],
      "execution_count": null,
      "outputs": [
        {
          "output_type": "execute_result",
          "data": {
            "text/plain": [
              "<matplotlib.image.AxesImage at 0x7f299aedaf50>"
            ]
          },
          "metadata": {
            "tags": []
          },
          "execution_count": 8
        },
        {
          "output_type": "display_data",
          "data": {
            "image/png": "[encoded data removed]",
            "text/plain": [
              "<Figure size 432x288 with 1 Axes>"
            ]
          },
          "metadata": {
            "tags": [],
            "needs_background": "light"
          }
        }
      ]
    },
    {
      "cell_type": "markdown",
      "metadata": {
        "id": "L2eZmT55YFCp"
      },
      "source": [
        "## Building the CNN Architecture:\n",
        "Convolutional layers"
      ]
    },
    {
      "cell_type": "code",
      "metadata": {
        "id": "0S6YCeGQUPok"
      },
      "source": [
        "# Using Tensorflow Sequential()\n",
        "model = models.Sequential()\n",
        "model.add(layers.Conv2D(28, (1, 1), activation='relu', input_shape=(28, 28, 1)))\n",
        "model.add(layers.MaxPooling2D((2, 2)))\n",
        "model.add(layers.Conv2D(56, (1, 1), activation='relu'))\n",
        "model.add(layers.MaxPooling2D((2, 2)))\n",
        "model.add(layers.Conv2D(56, (1, 1), activation='relu'))"
      ],
      "execution_count": null,
      "outputs": []
    },
    {
      "cell_type": "code",
      "metadata": {
        "colab": {
          "base_uri": "https://localhost:8080/"
        },
        "id": "UChlOHZGYh8x",
        "outputId": "f5bd93b5-486a-4133-f601-ea668460fa80"
      },
      "source": [
        "# Checking convolutional summary :\n",
        "model.summary()"
      ],
      "execution_count": null,
      "outputs": [
        {
          "output_type": "stream",
          "text": [
            "Model: \"sequential\"\n",
            "_________________________________________________________________\n",
            "Layer (type)                 Output Shape              Param #   \n",
            "=================================================================\n",
            "conv2d (Conv2D)              (None, 28, 28, 28)        56        \n",
            "_________________________________________________________________\n",
            "max_pooling2d (MaxPooling2D) (None, 14, 14, 28)        0         \n",
            "_________________________________________________________________\n",
            "conv2d_1 (Conv2D)            (None, 14, 14, 56)        1624      \n",
            "_________________________________________________________________\n",
            "max_pooling2d_1 (MaxPooling2 (None, 7, 7, 56)          0         \n",
            "_________________________________________________________________\n",
            "conv2d_2 (Conv2D)            (None, 7, 7, 56)          3192      \n",
            "=================================================================\n",
            "Total params: 4,872\n",
            "Trainable params: 4,872\n",
            "Non-trainable params: 0\n",
            "_________________________________________________________________\n"
          ],
          "name": "stdout"
        }
      ]
    },
    {
      "cell_type": "markdown",
      "metadata": {
        "id": "3bmyzoLnZCFV"
      },
      "source": [
        "Dense Layers"
      ]
    },
    {
      "cell_type": "code",
      "metadata": {
        "id": "Smv2Ojy8ZANF"
      },
      "source": [
        "# Adding dense layers to model \n",
        "model.add(layers.Flatten())\n",
        "model.add(layers.Dense(56, activation='relu'))\n",
        "model.add(layers.Dense(10))"
      ],
      "execution_count": null,
      "outputs": []
    },
    {
      "cell_type": "code",
      "metadata": {
        "colab": {
          "base_uri": "https://localhost:8080/"
        },
        "id": "25rvl_3RZJUN",
        "outputId": "979c6800-2890-4413-d918-c78b8e3e2dad"
      },
      "source": [
        "model.summary()"
      ],
      "execution_count": null,
      "outputs": [
        {
          "output_type": "stream",
          "text": [
            "Model: \"sequential\"\n",
            "_________________________________________________________________\n",
            "Layer (type)                 Output Shape              Param #   \n",
            "=================================================================\n",
            "conv2d (Conv2D)              (None, 28, 28, 28)        56        \n",
            "_________________________________________________________________\n",
            "max_pooling2d (MaxPooling2D) (None, 14, 14, 28)        0         \n",
            "_________________________________________________________________\n",
            "conv2d_1 (Conv2D)            (None, 14, 14, 56)        1624      \n",
            "_________________________________________________________________\n",
            "max_pooling2d_1 (MaxPooling2 (None, 7, 7, 56)          0         \n",
            "_________________________________________________________________\n",
            "conv2d_2 (Conv2D)            (None, 7, 7, 56)          3192      \n",
            "_________________________________________________________________\n",
            "flatten (Flatten)            (None, 2744)              0         \n",
            "_________________________________________________________________\n",
            "dense (Dense)                (None, 56)                153720    \n",
            "_________________________________________________________________\n",
            "dense_1 (Dense)              (None, 10)                570       \n",
            "=================================================================\n",
            "Total params: 159,162\n",
            "Trainable params: 159,162\n",
            "Non-trainable params: 0\n",
            "_________________________________________________________________\n"
          ],
          "name": "stdout"
        }
      ]
    },
    {
      "cell_type": "code",
      "metadata": {
        "id": "XkflRaaSZPDt"
      },
      "source": [
        "# Compiling the modesl with common loss functions and optimizers for image classification\n",
        "model.compile(optimizer='adam',\n",
        "              loss=tf.keras.losses.SparseCategoricalCrossentropy(from_logits=True),\n",
        "              metrics=['accuracy'])"
      ],
      "execution_count": null,
      "outputs": []
    },
    {
      "cell_type": "code",
      "metadata": {
        "colab": {
          "base_uri": "https://localhost:8080/"
        },
        "id": "82Fn-jX3Zl9V",
        "outputId": "eb832ccd-b08a-474b-f2d3-9c00c69e0a29"
      },
      "source": [
        "# Reshaping the the dataset to fit into the CNN\n",
        "X_reshape = X.reshape(X.shape[0], 28, 28, 1)\n",
        "\n",
        "# Breaking up the training and testing dataset: \n",
        "X_train, X_test, y_train, y_test = train_test_split(X_reshape, y, test_size=0.10, random_state=42)\n",
        "X_train, X_val, y_train, y_val = train_test_split(X_train, y_train, test_size=0.20, random_state=42)\n",
        "X_train.shape, y_train.shape, X_val.shape, X_test.shape"
      ],
      "execution_count": null,
      "outputs": [
        {
          "output_type": "execute_result",
          "data": {
            "text/plain": [
              "((50400, 28, 28, 1), (50400,), (12600, 28, 28, 1), (7000, 28, 28, 1))"
            ]
          },
          "metadata": {
            "tags": []
          },
          "execution_count": 14
        }
      ]
    },
    {
      "cell_type": "code",
      "metadata": {
        "id": "VRBU3t1Zana4"
      },
      "source": [
        ""
      ],
      "execution_count": null,
      "outputs": []
    },
    {
      "cell_type": "code",
      "metadata": {
        "colab": {
          "base_uri": "https://localhost:8080/"
        },
        "id": "4n-A-2ViZgs0",
        "outputId": "d0854371-7a8b-41f6-f250-2afb637e27bf"
      },
      "source": [
        "# Training the model: \n",
        "history = model.fit(X_train, y_train, epochs=10, validation_data=(X_val, y_val))"
      ],
      "execution_count": null,
      "outputs": [
        {
          "output_type": "stream",
          "text": [
            "/usr/local/lib/python3.7/dist-packages/tensorflow/python/data/ops/dataset_ops.py:3504: UserWarning: Even though the tf.config.experimental_run_functions_eagerly option is set, this option does not apply to tf.data functions. tf.data functions are still traced and executed as graphs.\n",
            "  \"Even though the tf.config.experimental_run_functions_eagerly \"\n"
          ],
          "name": "stderr"
        },
        {
          "output_type": "stream",
          "text": [
            "Epoch 1/10\n",
            "1575/1575 [==============================] - 68s 43ms/step - loss: 1.0445 - accuracy: 0.7466 - val_loss: 0.3600 - val_accuracy: 0.8852\n",
            "Epoch 2/10\n",
            "1575/1575 [==============================] - 66s 42ms/step - loss: 0.3496 - accuracy: 0.8876 - val_loss: 0.2955 - val_accuracy: 0.9056\n",
            "Epoch 3/10\n",
            "1575/1575 [==============================] - 67s 42ms/step - loss: 0.3028 - accuracy: 0.9028 - val_loss: 0.2824 - val_accuracy: 0.9063\n",
            "Epoch 4/10\n",
            "1575/1575 [==============================] - 72s 46ms/step - loss: 0.2779 - accuracy: 0.9101 - val_loss: 0.2653 - val_accuracy: 0.9148\n",
            "Epoch 5/10\n",
            "1575/1575 [==============================] - 68s 43ms/step - loss: 0.2518 - accuracy: 0.9187 - val_loss: 0.2522 - val_accuracy: 0.9187\n",
            "Epoch 6/10\n",
            "1575/1575 [==============================] - 67s 43ms/step - loss: 0.2418 - accuracy: 0.9222 - val_loss: 0.2505 - val_accuracy: 0.9185\n",
            "Epoch 7/10\n",
            "1575/1575 [==============================] - 66s 42ms/step - loss: 0.2315 - accuracy: 0.9226 - val_loss: 0.2471 - val_accuracy: 0.9191\n",
            "Epoch 8/10\n",
            "1575/1575 [==============================] - 73s 46ms/step - loss: 0.2232 - accuracy: 0.9277 - val_loss: 0.2456 - val_accuracy: 0.9225\n",
            "Epoch 9/10\n",
            "1575/1575 [==============================] - 72s 45ms/step - loss: 0.2167 - accuracy: 0.9303 - val_loss: 0.2228 - val_accuracy: 0.9285\n",
            "Epoch 10/10\n",
            "1575/1575 [==============================] - 75s 48ms/step - loss: 0.2106 - accuracy: 0.9313 - val_loss: 0.2260 - val_accuracy: 0.9260\n"
          ],
          "name": "stdout"
        }
      ]
    },
    {
      "cell_type": "markdown",
      "metadata": {
        "id": "iORpt3wSNRjx"
      },
      "source": [
        "## Evaluating the model \n"
      ]
    },
    {
      "cell_type": "code",
      "metadata": {
        "colab": {
          "base_uri": "https://localhost:8080/",
          "height": 296
        },
        "id": "5xyPD13dae75",
        "outputId": "ca7e2b0d-d47c-4137-e98c-028dee9d7346"
      },
      "source": [
        "# Plot training and validation set accuracies\n",
        "plt.plot(history.history['accuracy'], label='accuracy')\n",
        "plt.plot(history.history['val_accuracy'], label = 'val_accuracy')\n",
        "plt.xlabel('Epoch')\n",
        "plt.ylabel('Accuracy')\n",
        "#plt.ylim([0.5, 1])\n",
        "plt.legend(loc='lower right')\n"
      ],
      "execution_count": null,
      "outputs": [
        {
          "output_type": "execute_result",
          "data": {
            "text/plain": [
              "<matplotlib.legend.Legend at 0x7f29940b7950>"
            ]
          },
          "metadata": {
            "tags": []
          },
          "execution_count": 16
        },
        {
          "output_type": "display_data",
          "data": {
            "image/png": "[encoded data removed]",
            "text/plain": [
              "<Figure size 432x288 with 1 Axes>"
            ]
          },
          "metadata": {
            "tags": [],
            "needs_background": "light"
          }
        }
      ]
    },
    {
      "cell_type": "code",
      "metadata": {
        "colab": {
          "base_uri": "https://localhost:8080/"
        },
        "id": "NIbM4DQIydsu",
        "outputId": "31743665-8ff9-4520-ed1c-c6c631afcc42"
      },
      "source": [
        "# Evaluate the model with the testing data:\n",
        "test_loss, test_acc = model.evaluate(X_test, y_test, verbose=2)"
      ],
      "execution_count": null,
      "outputs": [
        {
          "output_type": "stream",
          "text": [
            "/usr/local/lib/python3.7/dist-packages/tensorflow/python/data/ops/dataset_ops.py:3504: UserWarning: Even though the tf.config.experimental_run_functions_eagerly option is set, this option does not apply to tf.data functions. tf.data functions are still traced and executed as graphs.\n",
            "  \"Even though the tf.config.experimental_run_functions_eagerly \"\n"
          ],
          "name": "stderr"
        },
        {
          "output_type": "stream",
          "text": [
            "219/219 - 4s - loss: 0.2319 - accuracy: 0.9294\n"
          ],
          "name": "stdout"
        }
      ]
    },
    {
      "cell_type": "code",
      "metadata": {
        "colab": {
          "base_uri": "https://localhost:8080/"
        },
        "id": "xnvo3F5tyFua",
        "outputId": "06decea2-61f5-4939-88c8-d101dd766e2c"
      },
      "source": [
        "# Print overal accuracy of the model \n",
        "print(test_acc*100)"
      ],
      "execution_count": null,
      "outputs": [
        {
          "output_type": "stream",
          "text": [
            "92.94285774230957\n"
          ],
          "name": "stdout"
        }
      ]
    },
    {
      "cell_type": "markdown",
      "metadata": {
        "id": "4ziuO0yRNHfu"
      },
      "source": [
        "## Using the model to make predictions"
      ]
    },
    {
      "cell_type": "code",
      "metadata": {
        "colab": {
          "base_uri": "https://localhost:8080/",
          "height": 635
        },
        "id": "Ms71nCi-yK4n",
        "outputId": "0f619370-42e4-465f-b7ae-68c7833e9331"
      },
      "source": [
        "# Random image selection Number 1\n",
        "image_ind = np.random.randint(0, X_test.shape[0])\n",
        "pred = model.predict(X_test[image_ind].reshape(1, 28, 28, 1)).tolist()[0]\n",
        "\n",
        "# Look at the data and the labels - both original and onehot encoded labels\n",
        "plt.imshow(X_test[image_ind].reshape([28, 28]))\n",
        "plt.show()\n",
        "print(\"Actual label is :\", y_test[image_ind])\n",
        "print(\"Predicted Label is :\", pred.index(max(pred)))\n",
        "\n",
        "# Random image selection Number 2\n",
        "image_ind = np.random.randint(0, X_test.shape[0])\n",
        "pred = model.predict(X_test[image_ind].reshape(1, 28, 28, 1)).tolist()[0]\n",
        "\n",
        "# Look at the data and the labels - both original and onehot encoded labels\n",
        "plt.imshow(X_test[image_ind].reshape([28, 28]))\n",
        "plt.show()\n",
        "print(\"Actual label is :\", y_test[image_ind])\n",
        "print(\"Predicted Label is :\", pred.index(max(pred)))"
      ],
      "execution_count": null,
      "outputs": [
        {
          "output_type": "stream",
          "text": [
            "/usr/local/lib/python3.7/dist-packages/tensorflow/python/data/ops/dataset_ops.py:3504: UserWarning: Even though the tf.config.experimental_run_functions_eagerly option is set, this option does not apply to tf.data functions. tf.data functions are still traced and executed as graphs.\n",
            "  \"Even though the tf.config.experimental_run_functions_eagerly \"\n"
          ],
          "name": "stderr"
        },
        {
          "output_type": "display_data",
          "data": {
            "image/png": "[encoded data removed]",
            "text/plain": [
              "<Figure size 432x288 with 1 Axes>"
            ]
          },
          "metadata": {
            "tags": [],
            "needs_background": "light"
          }
        },
        {
          "output_type": "stream",
          "text": [
            "Actual label is : 9\n",
            "Predicted Label is : 9\n"
          ],
          "name": "stdout"
        },
        {
          "output_type": "display_data",
          "data": {
            "image/png": "[encoded data removed]",
            "text/plain": [
              "<Figure size 432x288 with 1 Axes>"
            ]
          },
          "metadata": {
            "tags": [],
            "needs_background": "light"
          }
        },
        {
          "output_type": "stream",
          "text": [
            "Actual label is : 0\n",
            "Predicted Label is : 0\n"
          ],
          "name": "stdout"
        }
      ]
    },
    {
      "cell_type": "code",
      "metadata": {
        "id": "GFj22uJtJmV6"
      },
      "source": [
        ""
      ],
      "execution_count": null,
      "outputs": []
    }
  ]
}